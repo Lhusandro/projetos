{
  "nbformat": 4,
  "nbformat_minor": 0,
  "metadata": {
    "colab": {
      "provenance": [],
      "authorship_tag": "ABX9TyOsp24xD+8BbhuXr97QrC3E",
      "include_colab_link": true
    },
    "kernelspec": {
      "name": "python3",
      "display_name": "Python 3"
    },
    "language_info": {
      "name": "python"
    }
  },
  "cells": [
    {
      "cell_type": "markdown",
      "metadata": {
        "id": "view-in-github",
        "colab_type": "text"
      },
      "source": [
        "<a href=\"https://colab.research.google.com/github/Lhusandro/projetos/blob/master/C%C3%B3pia_de_Untitled.ipynb\" target=\"_parent\"><img src=\"https://colab.research.google.com/assets/colab-badge.svg\" alt=\"Open In Colab\"/></a>"
      ]
    },
    {
      "cell_type": "code",
      "execution_count": null,
      "metadata": {
        "colab": {
          "base_uri": "https://localhost:8080/"
        },
        "id": "wn3_OJIPfiKj",
        "outputId": "66653eb8-fc4f-4597-c898-1f06c2be93b4"
      },
      "outputs": [
        {
          "output_type": "stream",
          "name": "stdout",
          "text": [
            "Olá seja bem vindo\n"
          ]
        }
      ],
      "source": [
        "print('Olá seja bem vindo')"
      ]
    },
    {
      "cell_type": "code",
      "source": [
        "print ('Olá turma, que bom estarmos aqui reunidos!')\n",
        "nome = 'Lhusandro'\n",
        "disciplina = 'Física'\n",
        "print (f'Meu nome é {nome}, e leciono: {disciplina}')"
      ],
      "metadata": {
        "colab": {
          "base_uri": "https://localhost:8080/"
        },
        "id": "S2aoZCkPguep",
        "outputId": "b27af1c9-3286-41f0-939d-3a940c6e3c03"
      },
      "execution_count": null,
      "outputs": [
        {
          "output_type": "stream",
          "name": "stdout",
          "text": [
            "Olá turma, que bom estarmos aqui reunidos!\n",
            "Meu nome é Lhusandro, e leciono: Física\n"
          ]
        }
      ]
    },
    {
      "cell_type": "code",
      "source": [
        "# criar uma variavel para armazenar ovalor da massa\n",
        "massa = float(input(\"Informe a massa do soluto (em g):   \"))\n",
        "# Armazenar o volume\n",
        "volume = float(input('Digite o volume do solvente (em L):  '))\n",
        "# Armazenar o resultado do cálculo\n",
        "concentracao = massa/volume\n",
        "#Exibe o resultado\n",
        "print(f\"Quantidade de concentração: {concentracao:.2f} mg/L\")"
      ],
      "metadata": {
        "colab": {
          "base_uri": "https://localhost:8080/"
        },
        "id": "ngaGKHcOhOc5",
        "outputId": "f24385fa-03b7-439b-8c8c-596fed335f39"
      },
      "execution_count": null,
      "outputs": [
        {
          "output_type": "stream",
          "name": "stdout",
          "text": [
            "Informe a massa do soluto (em g):   3.8\n",
            "Digite o volume do solvente (em L):  2.5\n",
            "Quantidade de concentração: 1.52 mg/L\n"
          ]
        }
      ]
    },
    {
      "cell_type": "code",
      "source": [
        "#calcular área do trapézio\n",
        "#Valor da base maior\n",
        "basemaior = float(input('Digite o valor da base maior: '))\n",
        "# Valor da base menor\n",
        "basemenor = float(input('Digite o valor da base menor:  '))\n",
        "# Valor da altura\n",
        "altura = float(input('Digite o valor da altura:   '))\n",
        "# Calculo da área do trapézio\n",
        "area_trapezio = ((basemaior + basemenor) * altura) / 2\n",
        "#exibir o resultado\n",
        "print(f\"Aárea do trapézio é de : {area_trapezio:.2f} u²\")"
      ],
      "metadata": {
        "colab": {
          "base_uri": "https://localhost:8080/"
        },
        "id": "fDKfj1CDjybu",
        "outputId": "634215a4-cea9-468c-9ff0-a8309a834877"
      },
      "execution_count": null,
      "outputs": [
        {
          "output_type": "stream",
          "name": "stdout",
          "text": [
            "Digite o valor da base maior: 6\n",
            "Digite o valor da base menor:  3\n",
            "Digite o valor da altura:   4\n",
            "Aárea do trapézio é de : 18.00 u²\n"
          ]
        }
      ]
    },
    {
      "cell_type": "code",
      "source": [
        "# Questão 3\n",
        "# armazena a massa do objeto\n",
        "massa = float(input(\"digite a massa do objeto (em kg):\"))\n",
        "# armazena a velocidade\n",
        "velocidade = float(input('digite a velçocidade do objeto (em m/s):'))\n",
        "energia_cinetica = (1/2) * massa * (velocidade ** 2)\n",
        "print(f\"A energia cinética do objeto é de {energia_cinetica:.2f}J \")"
      ],
      "metadata": {
        "colab": {
          "base_uri": "https://localhost:8080/"
        },
        "id": "nl8Jfn86l7ki",
        "outputId": "ce2748a6-a431-4e8c-9441-0c30f91a3427"
      },
      "execution_count": null,
      "outputs": [
        {
          "output_type": "stream",
          "name": "stdout",
          "text": [
            "digite a massa do objeto (em kg):5\n",
            "digite a velçocidade do objeto (em m/s):4\n",
            "A energia cinética do objeto é de 40.00J \n"
          ]
        }
      ]
    },
    {
      "cell_type": "code",
      "source": [
        "#questão 4\n",
        "# Armazenar o peso do usuário\n",
        "peso = float(input('Digite o seu peso:'))\n",
        "# calculo da quantidade diaria de agua\n",
        "agua = (peso * 35) / 1000\n",
        "#exibe a quantidade de agua exigida\n",
        "print(f'A quantidade ideal de agua para voce por dia é de: {agua:.2f} litros')"
      ],
      "metadata": {
        "colab": {
          "base_uri": "https://localhost:8080/"
        },
        "id": "V6N5I5CGpHR6",
        "outputId": "96e756a1-65c3-4023-9886-a045df9691cd"
      },
      "execution_count": 1,
      "outputs": [
        {
          "output_type": "stream",
          "name": "stdout",
          "text": [
            "Digite o seu peso:50\n",
            "A quantidade ideal de agua para voce por dia é de: 1.75 litros\n"
          ]
        }
      ]
    },
    {
      "cell_type": "code",
      "source": [
        "# Questão 05\n",
        "massa = float(input('Digite o seu peso (em kg): '))\n",
        "altura = float(input('digite a sua altura (em cm): '))\n",
        "idade = int(input('Iforme a sua idade:'))\n",
        "\n",
        "calculo = (447.593 + (9.2 * massa) + (3.1 * altura) - (4.3 * idade))\n",
        "print(f\" calculo: {calculo:.2f} kcal/dia\")\n"
      ],
      "metadata": {
        "colab": {
          "base_uri": "https://localhost:8080/"
        },
        "id": "DTxTldkCDk-_",
        "outputId": "ade85c98-4399-4b7a-f6c4-11f7b0d497f1"
      },
      "execution_count": 3,
      "outputs": [
        {
          "output_type": "stream",
          "name": "stdout",
          "text": [
            "Digite o seu peso (em kg): 150\n",
            "digite a sua altura (em cm): 185\n",
            "Iforme a sua idade:51\n",
            " calculo: 2181.79 kcal/dia\n"
          ]
        }
      ]
    },
    {
      "cell_type": "code",
      "source": [
        "#questão 6\n",
        "# Armazena distancia no MAPa\n",
        "distancia_mapa = float(input('digite a distancia do mapa em cm: '))\n",
        "# armazena a distancia Real\n",
        "distancia_real = float(input('digite a distancia real em km:'))\n",
        "# Calcular a distancia real em cm\n",
        "distancia_real_cm = distancia_real * 100000\n",
        "# calcular a escala do mapa\n",
        "escala = distancia_real_cm / distancia_mapa\n",
        "print(f\"a escala do mapa é de 1:{int(escala)}.\")"
      ],
      "metadata": {
        "colab": {
          "base_uri": "https://localhost:8080/"
        },
        "id": "GjCJ024wukv5",
        "outputId": "f32c77bf-e01e-4904-9685-9658a78bf369"
      },
      "execution_count": null,
      "outputs": [
        {
          "output_type": "stream",
          "name": "stdout",
          "text": [
            "digite a distancia do mapa em cm: 4\n",
            "digite a distancia real em km:300\n",
            "a escala do mapa é de 1:7500000.\n"
          ]
        }
      ]
    },
    {
      "cell_type": "code",
      "source": [
        "# questão 08\n",
        "# armazena a população inicial\n",
        "pop_inicial = int(input('digite a população inicial:'))\n",
        "# armazena a população final\n",
        "pop_final = int(input('digite a população final'))\n",
        "# calculo\n",
        "taxapop = ((pop_final - pop_inicial) /pop_inicial) * 100\n",
        "print(f'a taxa de crescimento dessa cidade é de {taxapop:.2f} %.')"
      ],
      "metadata": {
        "colab": {
          "base_uri": "https://localhost:8080/"
        },
        "id": "CFgJyy341H7w",
        "outputId": "d53f417c-9283-4799-a2e9-6274c417b256"
      },
      "execution_count": null,
      "outputs": [
        {
          "output_type": "stream",
          "name": "stdout",
          "text": [
            "digite a população inicial:3000\n",
            "digite a população final8000\n",
            "a taxa de crescimento dessa cidade é de 166.67 %.\n"
          ]
        }
      ]
    },
    {
      "cell_type": "code",
      "source": [
        "# questão 09\n",
        "# calcular o consumo de energia eletrica\n",
        "# potencia em watts e o tempo de uso em horas\n",
        "# armazenar a potencia em uma variável\n",
        "potencia = float(input('digite a potencia em w:'))\n",
        "# armazenar o tempo\n",
        "tempo = float(input('digite o tempo em horas:'))\n",
        "# cáculo do consumo\n",
        "consumo = (potencia * tempo) /1000\n",
        "print(f'O consumo de energia elétrica foi de {consumo:.2f} kwh')"
      ],
      "metadata": {
        "colab": {
          "base_uri": "https://localhost:8080/"
        },
        "id": "m6uYiTi126ru",
        "outputId": "852fad4b-fe14-4303-8888-410207d7436f"
      },
      "execution_count": null,
      "outputs": [
        {
          "output_type": "stream",
          "name": "stdout",
          "text": [
            "digite a potencia em w:4\n",
            "digite o tempo em horas:720\n",
            "O consumo de energia elétrica foi de 2.88 kwh\n"
          ]
        }
      ]
    },
    {
      "cell_type": "code",
      "source": [
        "# questão 07\n",
        "rendatotal = float(input(\"Informe sua renda total da familia: \"))\n",
        "membros = int(input(\"informe o numero de membros da familia: \"))\n",
        "percapita = (rendatotal / membros)\n",
        "print(f'A renda percapita da familia é R$ {percapita:.2f}')"
      ],
      "metadata": {
        "colab": {
          "base_uri": "https://localhost:8080/"
        },
        "id": "yk7VFE3JFjof",
        "outputId": "bf324285-4a15-4bc6-d1b4-eade96bf570f"
      },
      "execution_count": 10,
      "outputs": [
        {
          "output_type": "stream",
          "name": "stdout",
          "text": [
            "Informe sua renda total da familia: 6000\n",
            "informe o numero de membros da familia: 5\n",
            "A renda percapita da familia é R$ 1200.00\n"
          ]
        }
      ]
    },
    {
      "cell_type": "code",
      "source": [
        "# questão 10\n",
        "massa = float(input('digite a massa do material (em kg): '))\n",
        "tempinicial = float(input('Digite a temperatura inicial (em C):'))\n",
        "tempfinal = float(input('digite a temperatura final (em C): '))\n",
        "calor = int(input('digite o calor específico fo material (em J/kg):'))\n",
        "calortransferido = (massa * calor * (tempfinal - tempinicial))\n",
        "print(f'Quantidade de calor é transferido: {calortransferido} J')\n"
      ],
      "metadata": {
        "colab": {
          "base_uri": "https://localhost:8080/"
        },
        "id": "hx5azlkCHx9-",
        "outputId": "47e78085-75bd-4d35-c731-d046db612112"
      },
      "execution_count": 12,
      "outputs": [
        {
          "output_type": "stream",
          "name": "stdout",
          "text": [
            "digite a massa do material (em kg): 60\n",
            "Digite a temperatura inicial (em C):23\n",
            "digite a temperatura final (em C): 56\n",
            "digite o calor específico fo material (em J/kg):12\n",
            "Quantidade de calor é transferido: 23760.0 J\n"
          ]
        }
      ]
    },
    {
      "cell_type": "code",
      "source": [
        "#Questão 11\n",
        "celsius = float(input(\"digite a temperatura em Celsius:\" ))\n",
        "kelvin = celsius + 273.15\n",
        "fah = ((celsius * 9/5) + 32)\n",
        "print(f' {celsius}C, corresponde a {kelvin} k e {fah} F')"
      ],
      "metadata": {
        "colab": {
          "base_uri": "https://localhost:8080/"
        },
        "id": "rTzCi4h3KLDe",
        "outputId": "9bf249f4-ca55-4870-eebd-743c3f64c07a"
      },
      "execution_count": 16,
      "outputs": [
        {
          "output_type": "stream",
          "name": "stdout",
          "text": [
            "digite a temperatura em Celsius:45\n",
            " 45.0C, corresponde a 318.15 k e 113.0 F\n"
          ]
        }
      ]
    },
    {
      "cell_type": "code",
      "source": [
        "#questão 12\n",
        "dM = float(input('digite a distancia entre dois pontos no mapa (em cm): '))\n",
        "escala =  int(input('digite o valor da escala do mapa:  '))\n",
        "drcm = dM * escala\n",
        "drkm = drcm / 100000\n",
        "print(f'A distancia real entre 2 pontos é de: {drkm:.2f} km')"
      ],
      "metadata": {
        "colab": {
          "base_uri": "https://localhost:8080/"
        },
        "id": "Jk-3s8V4LS8n",
        "outputId": "3631ff60-c8ce-48a1-fac3-961426e2308e"
      },
      "execution_count": 20,
      "outputs": [
        {
          "output_type": "stream",
          "name": "stdout",
          "text": [
            "digite a distancia entre dois pontos no mapa (em cm): 20\n",
            "digite o valor da escala do mapa:  50000\n",
            "A distancia real entre 2 pontos é de: 10.00 km\n"
          ]
        }
      ]
    },
    {
      "cell_type": "code",
      "source": [
        "#questão 13\n",
        "nota1 = float(input(\"nota 01:  \"))\n",
        "peso1 = float(input('peso01:  '))\n",
        "\n",
        "nota2 = float(input(\"nota 02:  \"))\n",
        "peso2 = float(input('peso02:  '))\n",
        "\n",
        "nota3 = float(input(\"nota 03:  \"))\n",
        "peso3 = float(input('peso03:  '))\n",
        "\n",
        "media = (nota1  * peso1 + nota2 * peso2 + nota3 * peso3)/(peso1 + peso2 + peso3)\n",
        "\n",
        "print(f'sua média foi: {media:.2f}')"
      ],
      "metadata": {
        "colab": {
          "base_uri": "https://localhost:8080/"
        },
        "id": "V4AvsraONexQ",
        "outputId": "832d6d63-5438-433e-a464-35d56085b062"
      },
      "execution_count": 21,
      "outputs": [
        {
          "output_type": "stream",
          "name": "stdout",
          "text": [
            "nota 01:  8\n",
            "peso01:  2\n",
            "nota 02:  7\n",
            "peso02:  2\n",
            "nota 03:  9\n",
            "peso03:  1.5\n",
            "sua média foi: 7.91\n"
          ]
        }
      ]
    },
    {
      "cell_type": "code",
      "source": [
        "#questão 14\n",
        "peso = float(input('seu peso:  '))\n",
        "altura = float(input(' digite sua altura:  '))\n",
        "imc = peso / altura ** 2\n",
        "print(f' o imc é {imc:.2f}')\n"
      ],
      "metadata": {
        "colab": {
          "base_uri": "https://localhost:8080/"
        },
        "id": "hjIcY8uyOjIh",
        "outputId": "54b9d475-8b45-4090-8907-c0d0d4d6e3ce"
      },
      "execution_count": 30,
      "outputs": [
        {
          "output_type": "stream",
          "name": "stdout",
          "text": [
            "seu peso:  155\n",
            " digite sua altura:  1.84\n",
            " o imc é 45.78\n"
          ]
        }
      ]
    },
    {
      "cell_type": "code",
      "source": [
        "#questão 15\n",
        "massatotalcomposto = float(input('informe a massa do composto em g:'))\n",
        "massaelemento = float(input('informe a massa do elemento no compsto em g: ' ))\n",
        "porcentagem = (massaelemento / massatotalcomposto) * 100\n",
        "print (f' a porcentagem do elemento no compposto é de {porcentagem:.2f}%')"
      ],
      "metadata": {
        "colab": {
          "base_uri": "https://localhost:8080/"
        },
        "id": "-Hp08MZ_PbFo",
        "outputId": "a98024de-f7d1-4240-a85b-91fa2a1ac199"
      },
      "execution_count": 25,
      "outputs": [
        {
          "output_type": "stream",
          "name": "stdout",
          "text": [
            "informe a massa do composto em g:45\n",
            "informe a massa do elemento no compsto em g: 23\n",
            " a porcentagem do elemento no compposto é de 51.11%\n"
          ]
        }
      ]
    }
  ]
}